{
 "cells": [
  {
   "cell_type": "code",
   "execution_count": null,
   "metadata": {},
   "outputs": [],
   "source": [
    "import cv2 #type: ignore\n",
    "import torch #type: ignore\n",
    "import easyocr #type: ignore\n",
    "import numpy as np #type: ignore\n",
    "from PIL import Image #type: ignore\n",
    "import google.generativeai as genai #type: ignore\n",
    "import torchvision.transforms as transforms #type: ignore\n",
    "from torchvision.models.detection import fasterrcnn_resnet50_fpn #type: ignore"
   ]
  },
  {
   "cell_type": "code",
   "execution_count": null,
   "metadata": {},
   "outputs": [],
   "source": [
    "# Load pre-trained Faster R-CNN model for text detection\n",
    "model = fasterrcnn_resnet50_fpn(pretrained=True)\n",
    "model.eval()\n",
    "\n",
    "# Initialize EasyOCR reader\n",
    "reader = easyocr.Reader(['en'])  # 'en' for English, add more languages if needed\n",
    "\n",
    "# Initialize Google AI model api key\n",
    "genai.configure(api_key=\"API -KEY :D\")\n",
    "\n",
    "# initialize the model\n",
    "gemini = genai.GenerativeModel('gemini-1.5-flash')"
   ]
  },
  {
   "cell_type": "code",
   "execution_count": null,
   "metadata": {},
   "outputs": [],
   "source": [
    "# Define image transformations\n",
    "transform = transforms.Compose([\n",
    "    transforms.ToTensor(),\n",
    "])\n",
    "\n",
    "def detect_text_regions(image):\n",
    "    # Convert PIL Image to tensor\n",
    "    img_tensor = transform(image).unsqueeze(0)\n",
    "    \n",
    "    # Perform inference\n",
    "    with torch.no_grad():\n",
    "        prediction = model(img_tensor)\n",
    "    \n",
    "    # Extract bounding boxes\n",
    "    boxes = prediction[0]['boxes'].cpu().numpy()\n",
    "    scores = prediction[0]['scores'].cpu().numpy()\n",
    "    \n",
    "    # Filter boxes with high confidence\n",
    "    threshold = 0.5\n",
    "    filtered_boxes = boxes[scores >= threshold]\n",
    "    \n",
    "    return filtered_boxes\n",
    "\n",
    "def perform_ocr(image, boxes):\n",
    "    # Convert PIL Image to OpenCV format\n",
    "    img_cv = cv2.cvtColor(np.array(image), cv2.COLOR_RGB2BGR)\n",
    "    \n",
    "    text_results = []\n",
    "    \n",
    "    for box in boxes:\n",
    "        x1, y1, x2, y2 = map(int, box)\n",
    "        roi = img_cv[y1:y2, x1:x2]\n",
    "        \n",
    "        # Perform OCR on the region of interest using EasyOCR\n",
    "        result = reader.readtext(roi)\n",
    "        \n",
    "        # Extract text from the result\n",
    "        text = ' '.join([entry[1] for entry in result])\n",
    "        text_results.append(text.strip())\n",
    "    \n",
    "    return text_results\n",
    "\n",
    "def process_prescription_image(image_path):\n",
    "    # Load image\n",
    "    image = Image.open(image_path)\n",
    "    \n",
    "    # Detect text regions\n",
    "    text_boxes = detect_text_regions(image)\n",
    "    \n",
    "    # Perform OCR on detected regions\n",
    "    ocr_results = perform_ocr(image, text_boxes)\n",
    "    \n",
    "    return ocr_results"
   ]
  },
  {
   "cell_type": "code",
   "execution_count": null,
   "metadata": {},
   "outputs": [],
   "source": [
    "# Example usage\n",
    "image_path = \"ty.jpg\"\n",
    "results = process_prescription_image(image_path)\n",
    "\n",
    "print(\"Extracted text from the prescription:\")\n",
    "extracted_text = \"\\n\".join(results)"
   ]
  },
  {
   "cell_type": "code",
   "execution_count": null,
   "metadata": {},
   "outputs": [],
   "source": [
    "PROMPT = f\"Give me basic details of the patient, name, age, sex, date, time, and prescription details of the report from the following extracted text of the medical prescription: \\n\\n\"\n",
    "\n",
    "response = gemini.generate_content(PROMPT + extracted_text)\n",
    "print(response.text)"
   ]
  }
 ],
 "metadata": {
  "kernelspec": {
   "display_name": ".deepfake",
   "language": "python",
   "name": "python3"
  },
  "language_info": {
   "codemirror_mode": {
    "name": "ipython",
    "version": 3
   },
   "file_extension": ".py",
   "mimetype": "text/x-python",
   "name": "python",
   "nbconvert_exporter": "python",
   "pygments_lexer": "ipython3",
   "version": "3.12.5"
  }
 },
 "nbformat": 4,
 "nbformat_minor": 2
}
